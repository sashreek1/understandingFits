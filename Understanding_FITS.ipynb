{
 "cells": [
  {
   "cell_type": "markdown",
   "metadata": {},
   "source": [
    "# Importing required libraries"
   ]
  },
  {
   "cell_type": "code",
   "execution_count": 1,
   "metadata": {},
   "outputs": [],
   "source": [
    "from astropy.utils.data import download_file\n",
    "from astropy.io import fits\n",
    "import matplotlib.pyplot as plt"
   ]
  },
  {
   "cell_type": "markdown",
   "metadata": {},
   "source": [
    "# Downloading the FITS file\n"
   ]
  },
  {
   "cell_type": "code",
   "execution_count": 2,
   "metadata": {},
   "outputs": [],
   "source": [
    "image_file = download_file('https://fits.gsfc.nasa.gov/samples/EUVEngc4151imgx.fits', cache=True )"
   ]
  },
  {
   "cell_type": "code",
   "execution_count": 3,
   "metadata": {},
   "outputs": [],
   "source": [
    "hdu_list = fits.open(image_file)"
   ]
  },
  {
   "cell_type": "markdown",
   "metadata": {},
   "source": [
    "# Let's plot the downloaded FITS file by using matplotlib and see what NASA has in store for us"
   ]
  },
  {
   "cell_type": "code",
   "execution_count": 4,
   "metadata": {},
   "outputs": [
    {
     "data": {
      "text/plain": [
       "<matplotlib.colorbar.Colorbar at 0x7fe60b706f50>"
      ]
     },
     "execution_count": 4,
     "metadata": {},
     "output_type": "execute_result"
    },
    {
     "data": {
      "image/png": "[encoded data removed]",
      "text/plain": [
       "<Figure size 432x288 with 2 Axes>"
      ]
     },
     "metadata": {
      "needs_background": "light"
     },
     "output_type": "display_data"
    }
   ],
   "source": [
    "image_data,header = fits.getdata(image_file,header=True)\n",
    "plt.imshow(image_data, cmap='gray')\n",
    "plt.colorbar()"
   ]
  },
  {
   "cell_type": "markdown",
   "metadata": {},
   "source": [
    "# Now we can load the headers and see this object's description"
   ]
  },
  {
   "cell_type": "code",
   "execution_count": 5,
   "metadata": {},
   "outputs": [],
   "source": [
    "header = fits.getheader(image_file, 0)"
   ]
  },
  {
   "cell_type": "code",
   "execution_count": 6,
   "metadata": {},
   "outputs": [
    {
     "data": {
      "text/plain": [
       "SIMPLE  =                    T / FITS STANDARD                                  \n",
       "BITPIX  =                    8 / Character information                          \n",
       "NAXIS   =                    0 / No image data array present                    \n",
       "EXTEND  =                    T / There may be standard extensions               \n",
       "DATE    = '31/10/97'           / Date file was written (dd/mm/yy) 19yy          \n",
       "ORIGIN  = 'CEA/SSL UC Berkeley' / EUVE Science Archive                          \n",
       "CREATOR = 'STWFITS '           / Fitsio version 11-May-1995                     \n",
       "TELESCOP= 'EUVE    '           / Extreme Ultraviolet Explorer                   \n",
       "INSTTYPE= 'DS/S    '           / Instrument type (DS/S, SCANNER)                \n",
       "OBJECT  = 'NGC 4151'           / Name of observed object                        \n",
       "RA_OBJ  =     182.635454000001 / R.A. of the object (degrees)                   \n",
       "DEC_OBJ =     39.4057280000001 / Declination of the object (degrees)            \n",
       "RA_PNT  =     182.988000000001 / R.A. of the pointing direction (degrees)       \n",
       "DEC_PNT =              39.5477 / Declination of the pointing direction (degrees)\n",
       "RA_PROC =     182.637910000001 / R.A. used to process data (degrees)            \n",
       "DEC_PROC=             39.41343 / Declination used to process data (degrees)     \n",
       "OBSERVER= 'A. A. Zdziarski'    / Original observing P.I. (EUVE = calibration)   \n",
       "DATE-OBS= '30/04/97 GMT'       / Start date of observation (dd/mm/yy) 19yy      \n",
       "TIME-OBS= '23:51:30 GMT'       / Start time of observation (hh:mm:ss GMT)       \n",
       "DATE-END= '07/05/97 GMT'       / End date of observation (dd/mm/yy) 19yy        \n",
       "TIME-END= '09:34:27 GMT'       / End time of observation (hh:mm:ss GMT)         \n",
       "OBS_MODE= 'POINTING'           / Inertial pointing mode                         \n",
       "DITHER  = 'NONE    '           / Spacecraft dither type (DITHERED, SPIRAL, NONE)\n",
       "DETMODE = 'WSZ     '           / Detector position conversion mode (WSZ or XY)  \n",
       "OFF-AXIS=                    T / Was this pointing done off-axis                \n",
       "MOVING  =                    F / Did the source position vary during observation\n",
       "DAYNIGHT= 'NIGHT   '           / Day/night data indicator (DAY, NIGHT, BOTH)    \n",
       "VALIDTIM=      201378.81295777 / Amount of telemetry present (seconds)          \n",
       "RA_UNIT = 'deg     '           / Units for Right Ascension                      \n",
       "DEC_UNIT= 'deg     '           / Units for Declination                          \n",
       "EQUINOX =                2000. / Coordinate equinox                             \n",
       "RADECSYS= 'FK5     '           / Frame of reference of coordinates              \n",
       "TIMESYS = 'MJD     '           / MJD = JD - 2400000.5                           \n",
       "TIMEZERO=                   0. / No time offset required for EUVE event times   \n",
       "TIMEUNIT= 's       '           / Units for TSTART, TSTOP, TIMEZERO              \n",
       "CLOCKCOR= 'NO      '           / Not corrected to UT                            \n",
       "TIMEREF = 'LOCAL   '           / No corrections applied (barycentric, etc.)     \n",
       "TASSIGN = 'SATELLITE'          / Event times are assigned at the satellite      \n",
       "TSTART  =     913161090.048001 / Time of start of observation (seconds)         \n",
       "TSTOP   =     913714467.840001 / Time of end of observation (seconds)           \n",
       "MJDREF  =               40000. / MJD of SC clock start, 24.00 May 1968          \n",
       "EGOCSVER= 'egocs1.7.1'         / Software version used to produce this data     \n",
       "REFVERS = 'egodata1.15.1'      / Reference calibration dataset version used     \n",
       "COMMENT     ' '                                                                 \n",
       "COMMENT     'This file is part of the EUVE Science Archive. It contains'        \n",
       "COMMENT     'images and filter limits for one EUVE observation.'                \n",
       "COMMENT     ' '                                                                 \n",
       "COMMENT     'The EUVE Science Archive contains the science data from'           \n",
       "COMMENT     'observations performed with the EUVE telescopes. It forms one'     \n",
       "COMMENT     'part of the EUVE Permanent Archive. The other part of the'         \n",
       "COMMENT     'permanent archive is the EUVE Telemetry Archive, which is a'       \n",
       "COMMENT     'complete record of the raw telemetry from the EUVE mission.'       \n",
       "COMMENT     ' '                                                                 \n",
       "COMMENT     'For documentation of the contents of the EUVE Science Archive,'    \n",
       "COMMENT     'see the \"EUVE Science Archive User's Guide\".  The contents of'     \n",
       "COMMENT     'the EUVE Telemetry Archive are described in the \"EUVE'             \n",
       "COMMENT     'Telemetry Archive User's Guide\".'                                  \n",
       "COMMENT     ' '                                                                 \n",
       "COMMENT     'The EUVE Permanent Archive was produced by the Center for EUV'     \n",
       "COMMENT     'Astrophysics, a division of UC Berkeley's Space Science'           \n",
       "COMMENT     Laboratory.                                                         \n",
       "COMMENT     ' '                                                                 "
      ]
     },
     "execution_count": 6,
     "metadata": {},
     "output_type": "execute_result"
    }
   ],
   "source": [
    "header"
   ]
  },
  {
   "cell_type": "markdown",
   "metadata": {},
   "source": [
    "# Since the name of the object \"NGC 4151\" is not very understandable lets change it to \"NGC 4151 (galaxy )\""
   ]
  },
  {
   "cell_type": "code",
   "execution_count": 7,
   "metadata": {},
   "outputs": [],
   "source": [
    "header['OBJECT'] = \"NGC 4151 (galaxy )\""
   ]
  },
  {
   "cell_type": "code",
   "execution_count": 8,
   "metadata": {},
   "outputs": [
    {
     "data": {
      "text/plain": [
       "SIMPLE  =                    T / FITS STANDARD                                  \n",
       "BITPIX  =                    8 / Character information                          \n",
       "NAXIS   =                    0 / No image data array present                    \n",
       "EXTEND  =                    T / There may be standard extensions               \n",
       "DATE    = '31/10/97'           / Date file was written (dd/mm/yy) 19yy          \n",
       "ORIGIN  = 'CEA/SSL UC Berkeley' / EUVE Science Archive                          \n",
       "CREATOR = 'STWFITS '           / Fitsio version 11-May-1995                     \n",
       "TELESCOP= 'EUVE    '           / Extreme Ultraviolet Explorer                   \n",
       "INSTTYPE= 'DS/S    '           / Instrument type (DS/S, SCANNER)                \n",
       "OBJECT  = 'NGC 4151 (galaxy )' / Name of observed object                        \n",
       "RA_OBJ  =     182.635454000001 / R.A. of the object (degrees)                   \n",
       "DEC_OBJ =     39.4057280000001 / Declination of the object (degrees)            \n",
       "RA_PNT  =     182.988000000001 / R.A. of the pointing direction (degrees)       \n",
       "DEC_PNT =              39.5477 / Declination of the pointing direction (degrees)\n",
       "RA_PROC =     182.637910000001 / R.A. used to process data (degrees)            \n",
       "DEC_PROC=             39.41343 / Declination used to process data (degrees)     \n",
       "OBSERVER= 'A. A. Zdziarski'    / Original observing P.I. (EUVE = calibration)   \n",
       "DATE-OBS= '30/04/97 GMT'       / Start date of observation (dd/mm/yy) 19yy      \n",
       "TIME-OBS= '23:51:30 GMT'       / Start time of observation (hh:mm:ss GMT)       \n",
       "DATE-END= '07/05/97 GMT'       / End date of observation (dd/mm/yy) 19yy        \n",
       "TIME-END= '09:34:27 GMT'       / End time of observation (hh:mm:ss GMT)         \n",
       "OBS_MODE= 'POINTING'           / Inertial pointing mode                         \n",
       "DITHER  = 'NONE    '           / Spacecraft dither type (DITHERED, SPIRAL, NONE)\n",
       "DETMODE = 'WSZ     '           / Detector position conversion mode (WSZ or XY)  \n",
       "OFF-AXIS=                    T / Was this pointing done off-axis                \n",
       "MOVING  =                    F / Did the source position vary during observation\n",
       "DAYNIGHT= 'NIGHT   '           / Day/night data indicator (DAY, NIGHT, BOTH)    \n",
       "VALIDTIM=      201378.81295777 / Amount of telemetry present (seconds)          \n",
       "RA_UNIT = 'deg     '           / Units for Right Ascension                      \n",
       "DEC_UNIT= 'deg     '           / Units for Declination                          \n",
       "EQUINOX =                2000. / Coordinate equinox                             \n",
       "RADECSYS= 'FK5     '           / Frame of reference of coordinates              \n",
       "TIMESYS = 'MJD     '           / MJD = JD - 2400000.5                           \n",
       "TIMEZERO=                   0. / No time offset required for EUVE event times   \n",
       "TIMEUNIT= 's       '           / Units for TSTART, TSTOP, TIMEZERO              \n",
       "CLOCKCOR= 'NO      '           / Not corrected to UT                            \n",
       "TIMEREF = 'LOCAL   '           / No corrections applied (barycentric, etc.)     \n",
       "TASSIGN = 'SATELLITE'          / Event times are assigned at the satellite      \n",
       "TSTART  =     913161090.048001 / Time of start of observation (seconds)         \n",
       "TSTOP   =     913714467.840001 / Time of end of observation (seconds)           \n",
       "MJDREF  =               40000. / MJD of SC clock start, 24.00 May 1968          \n",
       "EGOCSVER= 'egocs1.7.1'         / Software version used to produce this data     \n",
       "REFVERS = 'egodata1.15.1'      / Reference calibration dataset version used     \n",
       "COMMENT     ' '                                                                 \n",
       "COMMENT     'This file is part of the EUVE Science Archive. It contains'        \n",
       "COMMENT     'images and filter limits for one EUVE observation.'                \n",
       "COMMENT     ' '                                                                 \n",
       "COMMENT     'The EUVE Science Archive contains the science data from'           \n",
       "COMMENT     'observations performed with the EUVE telescopes. It forms one'     \n",
       "COMMENT     'part of the EUVE Permanent Archive. The other part of the'         \n",
       "COMMENT     'permanent archive is the EUVE Telemetry Archive, which is a'       \n",
       "COMMENT     'complete record of the raw telemetry from the EUVE mission.'       \n",
       "COMMENT     ' '                                                                 \n",
       "COMMENT     'For documentation of the contents of the EUVE Science Archive,'    \n",
       "COMMENT     'see the \"EUVE Science Archive User's Guide\".  The contents of'     \n",
       "COMMENT     'the EUVE Telemetry Archive are described in the \"EUVE'             \n",
       "COMMENT     'Telemetry Archive User's Guide\".'                                  \n",
       "COMMENT     ' '                                                                 \n",
       "COMMENT     'The EUVE Permanent Archive was produced by the Center for EUV'     \n",
       "COMMENT     'Astrophysics, a division of UC Berkeley's Space Science'           \n",
       "COMMENT     Laboratory.                                                         \n",
       "COMMENT     ' '                                                                 "
      ]
     },
     "execution_count": 8,
     "metadata": {},
     "output_type": "execute_result"
    }
   ],
   "source": [
    "header"
   ]
  },
  {
   "cell_type": "markdown",
   "metadata": {},
   "source": [
    "# since I had edited the FITS file lets add my name to the editors list ;)"
   ]
  },
  {
   "cell_type": "code",
   "execution_count": 9,
   "metadata": {},
   "outputs": [],
   "source": [
    "header['EDITOR'] = \"sash713\""
   ]
  },
  {
   "cell_type": "code",
   "execution_count": 10,
   "metadata": {},
   "outputs": [
    {
     "data": {
      "text/plain": [
       "SIMPLE  =                    T / FITS STANDARD                                  \n",
       "BITPIX  =                    8 / Character information                          \n",
       "NAXIS   =                    0 / No image data array present                    \n",
       "EXTEND  =                    T / There may be standard extensions               \n",
       "DATE    = '31/10/97'           / Date file was written (dd/mm/yy) 19yy          \n",
       "ORIGIN  = 'CEA/SSL UC Berkeley' / EUVE Science Archive                          \n",
       "CREATOR = 'STWFITS '           / Fitsio version 11-May-1995                     \n",
       "TELESCOP= 'EUVE    '           / Extreme Ultraviolet Explorer                   \n",
       "INSTTYPE= 'DS/S    '           / Instrument type (DS/S, SCANNER)                \n",
       "OBJECT  = 'NGC 4151 (galaxy )' / Name of observed object                        \n",
       "RA_OBJ  =     182.635454000001 / R.A. of the object (degrees)                   \n",
       "DEC_OBJ =     39.4057280000001 / Declination of the object (degrees)            \n",
       "RA_PNT  =     182.988000000001 / R.A. of the pointing direction (degrees)       \n",
       "DEC_PNT =              39.5477 / Declination of the pointing direction (degrees)\n",
       "RA_PROC =     182.637910000001 / R.A. used to process data (degrees)            \n",
       "DEC_PROC=             39.41343 / Declination used to process data (degrees)     \n",
       "OBSERVER= 'A. A. Zdziarski'    / Original observing P.I. (EUVE = calibration)   \n",
       "DATE-OBS= '30/04/97 GMT'       / Start date of observation (dd/mm/yy) 19yy      \n",
       "TIME-OBS= '23:51:30 GMT'       / Start time of observation (hh:mm:ss GMT)       \n",
       "DATE-END= '07/05/97 GMT'       / End date of observation (dd/mm/yy) 19yy        \n",
       "TIME-END= '09:34:27 GMT'       / End time of observation (hh:mm:ss GMT)         \n",
       "OBS_MODE= 'POINTING'           / Inertial pointing mode                         \n",
       "DITHER  = 'NONE    '           / Spacecraft dither type (DITHERED, SPIRAL, NONE)\n",
       "DETMODE = 'WSZ     '           / Detector position conversion mode (WSZ or XY)  \n",
       "OFF-AXIS=                    T / Was this pointing done off-axis                \n",
       "MOVING  =                    F / Did the source position vary during observation\n",
       "DAYNIGHT= 'NIGHT   '           / Day/night data indicator (DAY, NIGHT, BOTH)    \n",
       "VALIDTIM=      201378.81295777 / Amount of telemetry present (seconds)          \n",
       "RA_UNIT = 'deg     '           / Units for Right Ascension                      \n",
       "DEC_UNIT= 'deg     '           / Units for Declination                          \n",
       "EQUINOX =                2000. / Coordinate equinox                             \n",
       "RADECSYS= 'FK5     '           / Frame of reference of coordinates              \n",
       "TIMESYS = 'MJD     '           / MJD = JD - 2400000.5                           \n",
       "TIMEZERO=                   0. / No time offset required for EUVE event times   \n",
       "TIMEUNIT= 's       '           / Units for TSTART, TSTOP, TIMEZERO              \n",
       "CLOCKCOR= 'NO      '           / Not corrected to UT                            \n",
       "TIMEREF = 'LOCAL   '           / No corrections applied (barycentric, etc.)     \n",
       "TASSIGN = 'SATELLITE'          / Event times are assigned at the satellite      \n",
       "TSTART  =     913161090.048001 / Time of start of observation (seconds)         \n",
       "TSTOP   =     913714467.840001 / Time of end of observation (seconds)           \n",
       "MJDREF  =               40000. / MJD of SC clock start, 24.00 May 1968          \n",
       "EGOCSVER= 'egocs1.7.1'         / Software version used to produce this data     \n",
       "REFVERS = 'egodata1.15.1'      / Reference calibration dataset version used     \n",
       "EDITOR  = 'sash713 '                                                            \n",
       "COMMENT     ' '                                                                 \n",
       "COMMENT     'This file is part of the EUVE Science Archive. It contains'        \n",
       "COMMENT     'images and filter limits for one EUVE observation.'                \n",
       "COMMENT     ' '                                                                 \n",
       "COMMENT     'The EUVE Science Archive contains the science data from'           \n",
       "COMMENT     'observations performed with the EUVE telescopes. It forms one'     \n",
       "COMMENT     'part of the EUVE Permanent Archive. The other part of the'         \n",
       "COMMENT     'permanent archive is the EUVE Telemetry Archive, which is a'       \n",
       "COMMENT     'complete record of the raw telemetry from the EUVE mission.'       \n",
       "COMMENT     ' '                                                                 \n",
       "COMMENT     'For documentation of the contents of the EUVE Science Archive,'    \n",
       "COMMENT     'see the \"EUVE Science Archive User's Guide\".  The contents of'     \n",
       "COMMENT     'the EUVE Telemetry Archive are described in the \"EUVE'             \n",
       "COMMENT     'Telemetry Archive User's Guide\".'                                  \n",
       "COMMENT     ' '                                                                 \n",
       "COMMENT     'The EUVE Permanent Archive was produced by the Center for EUV'     \n",
       "COMMENT     'Astrophysics, a division of UC Berkeley's Space Science'           \n",
       "COMMENT     Laboratory.                                                         \n",
       "COMMENT     ' '                                                                 "
      ]
     },
     "execution_count": 10,
     "metadata": {},
     "output_type": "execute_result"
    }
   ],
   "source": [
    "header"
   ]
  },
  {
   "cell_type": "markdown",
   "metadata": {},
   "source": [
    "# My learnings"
   ]
  },
  {
   "cell_type": "markdown",
   "metadata": {},
   "source": [
    "## What is a FITS file ?"
   ]
  },
  {
   "cell_type": "markdown",
   "metadata": {},
   "source": [
    "FITS stands for Flexible Image Transport System. It is a file format to represent images or tables for transmission and processing of data formatted as multi-dimensional arrays. "
   ]
  },
  {
   "cell_type": "markdown",
   "metadata": {},
   "source": [
    "A FITS file consists of a set of header records followed by a set of data records. All FITS records are 2880 bytes in length. All data are written as 8 bit words (360 words per record).\n",
    "\n",
    "The header is a sequence of 80 character ASCII images. Each line of the header consists of a keyword and a value. A FITS header must contain certain keywords in order for the data to be interpretable These are:\n",
    "\n",
    "    SIMPLE: =T is a simple FITS file, F otherwise\n",
    "    BITPIX: number of bits per word in the data\n",
    "    NAXIS: number of axes in the array"
   ]
  },
  {
   "cell_type": "markdown",
   "metadata": {},
   "source": [
    "## Why FITS ?"
   ]
  },
  {
   "cell_type": "markdown",
   "metadata": {},
   "source": [
    "The FITS format was designed specifically for astronomic data, to help with efficient data transportation. Images on the web are typically in a portable format such as '.gif', '.jpeg' or '.png'. One major disadvantage is that they are compressed to reduce their size, and the way in which they are compressed is “lossy”. For scientific imagery, however, you want the data your camera captures to be “raw”. In other words, you don’t want the image to be compressed in any way."
   ]
  }
 ],
 "metadata": {
  "kernelspec": {
   "display_name": "Python 3",
   "language": "python",
   "name": "python3"
  },
  "language_info": {
   "codemirror_mode": {
    "name": "ipython",
    "version": 3
   },
   "file_extension": ".py",
   "mimetype": "text/x-python",
   "name": "python",
   "nbconvert_exporter": "python",
   "pygments_lexer": "ipython3",
   "version": "3.7.5"
  }
 },
 "nbformat": 4,
 "nbformat_minor": 2
}
